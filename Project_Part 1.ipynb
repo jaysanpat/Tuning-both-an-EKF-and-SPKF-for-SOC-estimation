{
 "cells": [
  {
   "cell_type": "markdown",
   "metadata": {},
   "source": [
    "## Project, Part 1: Tuning an EKF for SOC estimation\n",
    "Welcome to the first part of the capstone project! To complete this assignment, follow the instructions below. When you have completed your modifications to the sample code that I have provided as a starting point, click on the <b>\"Submit Assignment\"</b> button to submit your code to the grader."
   ]
  },
  {
   "cell_type": "markdown",
   "metadata": {},
   "source": []
  },
  {
   "cell_type": "markdown",
   "metadata": {},
   "source": [
    "### Deliverables\n",
    "The goal of Part 1 of the capstone project is to hand-tune an EKF by selecting values for the covariances of process noise, sensor noise, and for the error of the initial SOC estimate. You will do this by trial-and-error to get the best result you are able to find. Some of the guidelines that you learned in the course will be helpful to you.\n",
    "\n",
    "When tuning an EKF for a real application, these covariances are tuned so that the filter gives good and robust performance over a wide variety of operating conditions. However, for this project you will tune the filter to operate well for only a single operating scenario (otherwise, the project would take too long to complete).\n",
    "\n",
    "The scenario that you will be working with exercises a battery cell with an urban dynamometer driving cycle (UDDS). The cell is at an initial SOC of 95%. However, the EKF will assume an initial SOC estimate of 90%. So, part of the challenge in tuning the filter is to find covariance values that allow the filter to operate even with this initial error in the SOC estimate (which might be caused in practice by a poor initial voltage measurement, for example).\n",
    "\n",
    "Your deliverable will be a set of tuning covariance matrices within the <code>tuneEKF</code> function, below."
   ]
  },
  {
   "cell_type": "markdown",
   "metadata": {
    "collapsed": true
   },
   "source": [
    "## Implementation of EKF to estimate SOC using ESC model\n"
   ]
  },
  {
   "cell_type": "code",
   "execution_count": null,
   "metadata": {
    "collapsed": true
   },
   "outputs": [],
   "source": [
    "% First, make sure that the ESC toolbox functions are in the path\n",
    "addpath readonly"
   ]
  },
  {
   "cell_type": "markdown",
   "metadata": {},
   "source": [
    "The following is the \"helper function\" used to initialize the EKF data structures. (Do not change this function.)"
   ]
  },
  {
   "cell_type": "code",
   "execution_count": null,
   "metadata": {
    "collapsed": true
   },
   "outputs": [],
   "source": [
    "function ekfData = initEKF(v0,T0,SigmaX0,SigmaV,SigmaW,model)\n",
    "\n",
    "  % Initial state description\n",
    "  ir0   = 0;                           ekfData.irInd = 1;\n",
    "  hk0   = 0;                           ekfData.hkInd = 2;\n",
    "  SOC0  = SOCfromOCVtemp(v0,T0,model); ekfData.zkInd = 3;\n",
    "  ekfData.xhat  = [ir0 hk0 SOC0]'; % initial state\n",
    "\n",
    "  % Covariance values\n",
    "  ekfData.SigmaX = SigmaX0;\n",
    "  ekfData.SigmaV = SigmaV;\n",
    "  ekfData.SigmaW = SigmaW;\n",
    "  ekfData.Qbump = 5;\n",
    "  \n",
    "  % previous value of current\n",
    "  ekfData.priorI = 0;\n",
    "  ekfData.signIk = 0;\n",
    "  \n",
    "  % store model data structure too\n",
    "  ekfData.model = model;\n",
    "end"
   ]
  },
  {
   "cell_type": "markdown",
   "metadata": {},
   "source": [
    "The following is the \"helper function\" to update the EKF data structures every measurement interval.  (Do not change this function.)"
   ]
  },
  {
   "cell_type": "code",
   "execution_count": null,
   "metadata": {
    "collapsed": true
   },
   "outputs": [],
   "source": [
    "function [zk,zkbnd,ekfData] = iterEKF(vk,ik,Tk,deltat,ekfData)\n",
    "  model = ekfData.model;\n",
    "  % Load the cell model parameters\n",
    "  Q  = getParamESC('QParam',Tk,model);\n",
    "  G  = getParamESC('GParam',Tk,model);\n",
    "  M  = getParamESC('MParam',Tk,model);\n",
    "  M0 = getParamESC('M0Param',Tk,model);\n",
    "  RC = exp(-deltat./abs(getParamESC('RCParam',Tk,model)))';\n",
    "  R  = getParamESC('RParam',Tk,model)';\n",
    "  R0 = getParamESC('R0Param',Tk,model);\n",
    "  eta = getParamESC('etaParam',Tk,model);\n",
    "  if ik<0, ik=ik*eta; end;\n",
    "  \n",
    "  % Get data stored in ekfData structure\n",
    "  I = ekfData.priorI;\n",
    "  SigmaX = ekfData.SigmaX;\n",
    "  SigmaV = ekfData.SigmaV;\n",
    "  SigmaW = ekfData.SigmaW;\n",
    "  xhat = ekfData.xhat;\n",
    "  irInd = ekfData.irInd;\n",
    "  hkInd = ekfData.hkInd;\n",
    "  zkInd = ekfData.zkInd;\n",
    "  if abs(ik)>Q/100, ekfData.signIk = sign(ik); end;\n",
    "  signIk = ekfData.signIk;\n",
    "  \n",
    "  % EKF Step 0: Compute Ahat[k-1], Bhat[k-1]\n",
    "  nx = length(xhat); Ahat = zeros(nx,nx); Bhat = zeros(nx,1);\n",
    "  Ahat(zkInd,zkInd) = 1; Bhat(zkInd) = -deltat/(3600*Q);\n",
    "  Ahat(irInd,irInd) = diag(RC); Bhat(irInd) = 1-RC(:);\n",
    "  Ah  = exp(-abs(I*G*deltat/(3600*Q)));  % hysteresis factor\n",
    "  Ahat(hkInd,hkInd) = Ah;\n",
    "  B = [Bhat, 0*Bhat];\n",
    "  Bhat(hkInd) = -abs(G*deltat/(3600*Q))*Ah*(1+sign(I)*xhat(hkInd));\n",
    "  B(hkInd,2) = Ah-1;\n",
    "  \n",
    "  % Step 1a: State estimate time update\n",
    "  xhat = Ahat*xhat + B*[I; sign(I)]; \n",
    "  \n",
    "  % Step 1b: Error covariance time update\n",
    "  %          sigmaminus(k) = Ahat(k-1)*sigmaplus(k-1)*Ahat(k-1)' + ...\n",
    "  %                          Bhat(k-1)*sigmawtilde*Bhat(k-1)'\n",
    "  SigmaX = Ahat*SigmaX*Ahat' + Bhat*SigmaW*Bhat';\n",
    "  \n",
    "  % Step 1c: Output estimate\n",
    "  yhat = OCVfromSOCtemp(xhat(zkInd),Tk,model) + M0*signIk + ...\n",
    "         M*xhat(hkInd) - R*xhat(irInd) - R0*ik;\n",
    "  \n",
    "  % Step 2a: Estimator gain matrix\n",
    "  Chat = zeros(1,nx);\n",
    "  Chat(zkInd) = dOCVfromSOCtemp(xhat(zkInd),Tk,model);\n",
    "  Chat(hkInd) = M;\n",
    "  Chat(irInd) = -R;\n",
    "  Dhat = 1;\n",
    "  SigmaY = Chat*SigmaX*Chat' + Dhat*SigmaV*Dhat';\n",
    "  L = SigmaX*Chat'/SigmaY;\n",
    "  \n",
    "  % Step 2b: State estimate measurement update\n",
    "  r = vk - yhat; % residual.  Use to check for sensor errors...\n",
    "  if r^2 > 100*SigmaY, L(:)=0.0; end \n",
    "  xhat = xhat + L*r;\n",
    "  xhat(hkInd) = min(1,max(-1,xhat(hkInd))); % Help maintain robustness\n",
    "  xhat(zkInd) = min(1.05,max(-0.05,xhat(zkInd)));\n",
    "  \n",
    "  % Step 2c: Error covariance measurement update\n",
    "  SigmaX = SigmaX - L*SigmaY*L';\n",
    "  %   % Q-bump code\n",
    "  if r^2 > 4*SigmaY, % bad voltage estimate by 2 std. devs, bump Q \n",
    "    fprintf('Bumping SigmaX\\n');\n",
    "    SigmaX(zkInd,zkInd) = SigmaX(zkInd,zkInd)*ekfData.Qbump;\n",
    "  end\n",
    "  [~,S,V] = svd(SigmaX);\n",
    "  HH = V*S*V';\n",
    "  SigmaX = (SigmaX + SigmaX' + HH + HH')/4; % Help maintain robustness\n",
    "  \n",
    "  % Save data in ekfData structure for next time...\n",
    "  ekfData.priorI = ik;\n",
    "  ekfData.SigmaX = SigmaX;\n",
    "  ekfData.xhat = xhat;\n",
    "  zk = xhat(zkInd);\n",
    "  zkbnd = 3*sqrt(SigmaX(zkInd,zkInd));\n",
    "end"
   ]
  },
  {
   "cell_type": "markdown",
   "metadata": {},
   "source": [
    "The following code provides the tuning values for the process-noise, sensor-noise, and initial SOC-estimation-error covariance matrices. You will tune the filter by changing the values in this function. \n",
    "\n",
    "Every time you make a change to these tuning variables, make sure that you type < shift >< enter > in this code, and then also press < shift >< enter > in the \"wrapper code\", below, that executes the EKF algorithm."
   ]
  },
  {
   "cell_type": "code",
   "execution_count": null,
   "metadata": {
    "collapsed": true
   },
   "outputs": [],
   "source": [
    "\n",
    "% function [SigmaW, SigmaV, SigmaZ0] = tuneEKF\n",
    "%\n",
    "% SigmaW - covariance value for current-sensor process noise\n",
    "% SigmaV - covariance value for voltage-sensor measurement noise\n",
    "% SigmaZ0 - covariance value for error in initial SOC estimate\n",
    "\n",
    "function [SigmaW, SigmaV, SigmaZ0] = tuneEKF\n",
    "\n",
    "\n",
    "  SigmaW  = 0.1; % This is a sample value. You will need to change it.\n",
    "  SigmaV  = 0.1; % This is a sample value. You will need to change it.\n",
    "  SigmaZ0 = 0.1; % This is a sample value. You will need to change it.\n",
    "end  "
   ]
  },
  {
   "cell_type": "markdown",
   "metadata": {},
   "source": [
    "The following \"wrapper\" code loads a lab-test data file, runs the EKF, and plots results. Make sure you type < shift >< enter> in the earlier \"helper function\" notebook cells before executing the \"wrapper code\".  (Do not change this code.)"
   ]
  },
  {
   "cell_type": "code",
   "execution_count": null,
   "metadata": {},
   "outputs": [],
   "source": [
    "% Load model file corresponding to a cell of this type\n",
    "% Has the variables: current, SOC, time, voltage\n",
    "load readonly/PAN_CAPSTONE_DATA.mat; % load data from Panasonic NMC cell, +25 degC\n",
    "T = 25; % Test temperature\n",
    "\n",
    "time    = DYNData.script1.time(:);   deltat = time(2)-time(1);\n",
    "time    = time-time(1); % start time at 0\n",
    "current = DYNData.script1.current(:); % discharge > 0; charge < 0.\n",
    "voltage = DYNData.script1.voltage(:);\n",
    "soc     = DYNData.script1.soc(:);\n",
    "\n",
    "% Load cell-test data to be used for this batch experiment\n",
    "% Contains variable \"DYNData\" of which the field \"script1\" is of \n",
    "% interest. This has sub-fields time, current, voltage, soc.\n",
    "load readonly/PANmodel.mat; % load ESC model of Panasonic NMC cell\n",
    "\n",
    "% Reserve storage for computed results, for plotting\n",
    "sochat = zeros(size(soc));\n",
    "socbound = zeros(size(soc));\n",
    "\n",
    "% Get tuning values from user-modified function\n",
    "[SigmaW, SigmaV, SigmaZ0] = tuneEKF;\n",
    "\n",
    "SigmaX0 = diag([1e-6 1e-6 SigmaZ0]);\n",
    "ekfData = initEKF(voltage(1),T,SigmaX0,SigmaV,SigmaW,model);\n",
    "% This simulation tests the EKF when there is an inital SOC-estimation error\n",
    "% The true initial SOC is 95%, but we will initialize the SOC estimate in the \n",
    "% filter to 90% and see how quickly and well the filter converges toward the\n",
    "% correct SOC.\n",
    "ekfData.xhat(ekfData.zkInd)=0.90; % \n",
    "\n",
    "% Now, enter loop for remainder of time, where we update the SPKF\n",
    "% once per sample interval\n",
    "fprintf('Please be patient. This code will take a minute or so to execute.\\n')\n",
    "for k = 1:length(voltage),\n",
    "  vk = voltage(k); % \"measure\" voltage\n",
    "  ik = current(k); % \"measure\" current\n",
    "  Tk = T;          % \"measure\" temperature\n",
    "  \n",
    "  % Update SOC (and other model states)\n",
    "  [sochat(k),socbound(k),ekfData] = iterEKF(vk,ik,Tk,deltat,ekfData);\n",
    "  if mod(k,300)==0,\n",
    "    fprintf('  Completed %d out of %d iterations...\\n',k,length(voltage));\n",
    "  end  \n",
    "end\n",
    "  \n",
    "%%\n",
    "subplot(1,2,1); plot(time/60,100*sochat,time/60,100*soc); hold on\n",
    "plot([time/60; NaN; time/60],[100*(sochat+socbound); NaN; 100*(sochat-socbound)],'--');\n",
    "title('SOC estimation using EKF'); grid on\n",
    "xlabel('Time (min)'); ylabel('SOC (%)'); legend('Estimate','Truth','Bounds');\n",
    "\n",
    "%%\n",
    "J1 = sqrt(mean((100*(soc-sochat)).^2));\n",
    "fprintf('RMS SOC estimation error = %g%%\\n',J1);\n",
    "\n",
    "%%\n",
    "J2 = 100*socbound(end);\n",
    "fprintf('Final value of SOC estimation error bounds = %g%%\\n',J2);\n",
    "\n",
    "%%\n",
    "subplot(1,2,2); plot(time/60,100*(soc-sochat)); hold on\n",
    "plot([time/60; NaN; time/60],[100*socbound; NaN; -100*socbound],'--');\n",
    "title('SOC estimation errors using EKF');\n",
    "xlabel('Time (min)'); ylabel('SOC error (%)'); ylim([-4 4]); \n",
    "legend('Estimation error','Bounds'); \n",
    "grid on\n",
    "\n",
    "ind = find(abs(soc-sochat)>socbound);\n",
    "fprintf('Percent of time error outside bounds = %g%%\\n',length(ind)/length(soc)*100);\n",
    "\n",
    "% Compute the prospective grade\n",
    "tableRow = min(11,ceil(max(0,J1-0.1)/0.01 + 1));\n",
    "tableCol = min(11,ceil(max(0,J2-0.21)/0.02 + 1));\n",
    "table = hankel([10:-1:0]);\n",
    "grade = table(tableRow,tableCol);\n",
    "if ~isempty(ind),\n",
    "  fprintf('Your SOC estimation error was sometimes outside of bounds, so your overall grade is 0/10.');\n",
    "else\n",
    "  fprintf('Your grade is calculated from row %d and column %d of the grading table that is\\n',tableRow,tableCol);\n",
    "  fprintf('listed in the project description page. This will result in a grade of %d/10.\\n',grade);\n",
    "end"
   ]
  },
  {
   "cell_type": "markdown",
   "metadata": {},
   "source": [
    "\n",
    "When you are satisfied with your tuning, click on the \"<b>Submit Assignment</b>\" button, above.\n",
    "\n",
    "The assignment will be graded out of a maximum of 10 points possible. Part of the grade depends on the root-mean-squared SOC estimation error of your tuned filter. Part of the grade depends on the final value of the 3-sigma bounds on the SOC estimate. Part of the grade depends on whether your estimate is ever outside of the 3-sigma bounds.\n",
    "* If your code produces errors when executed, the grade is zero\n",
    "* If your SOC estimation error is ever outside the 3-sigma bounds, the grade is zero\n",
    "* Otherwise, your grade can be found looking up the RMS SOC estimation error and the final value of the 3-sigma bounds in the grading table given in the project description page (the value is also computed by this code, for easy reference).\n",
    " * For a grade of 100%, you will need to achieve RMS SOC estimation error of less than 0.1% and final SOC estimation error bounds of less than 0.21%.\n",
    "\n",
    "If you are curious, the best results that I have been able to obtain are:\n",
    "* RMS SOC estimation error = 0.099%\n",
    "* Final value of SOC estimation error bounds = 0.201%\n",
    "\n",
    "It took me quite a long time to find these good results, and I also discovered that the EKF is far more sensitive to one of its tuning values than the other two. "
   ]
  },
  {
   "cell_type": "code",
   "execution_count": null,
   "metadata": {
    "collapsed": true
   },
   "outputs": [],
   "source": []
  }
 ],
 "metadata": {
  "coursera": {
   "course_slug": "battery-state-of-charge",
   "graded_item_id": "mPSj7",
   "launcher_item_id": "HXaW8"
  },
  "kernelspec": {
   "display_name": "Octave",
   "language": "octave",
   "name": "octave"
  },
  "language_info": {
   "file_extension": ".m",
   "help_links": [
    {
     "text": "GNU Octave",
     "url": "https://www.gnu.org/software/octave/support.html"
    },
    {
     "text": "Octave Kernel",
     "url": "https://github.com/Calysto/octave_kernel"
    },
    {
     "text": "MetaKernel Magics",
     "url": "https://github.com/calysto/metakernel/blob/master/metakernel/magics/README.md"
    }
   ],
   "mimetype": "text/x-octave",
   "name": "octave",
   "version": "4.2.2"
  }
 },
 "nbformat": 4,
 "nbformat_minor": 1
}
